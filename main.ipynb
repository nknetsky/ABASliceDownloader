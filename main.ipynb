{
 "cells": [
  {
   "cell_type": "code",
   "execution_count": null,
   "metadata": {},
   "outputs": [],
   "source": [
    "#! python3\n",
    "# downloadAllenBrainSlice - download brain slices from the Allen Brain Atlas\n",
    "from function import *\n",
    "import sys"
   ]
  },
  {
   "cell_type": "code",
   "execution_count": null,
   "metadata": {},
   "outputs": [],
   "source": [
    "path = \"/Users/erikliu/Desktop/\"\n",
    "\n",
    "# '-s' indicat search for the experiment using the input name\n",
    "if \"-s\" in sys.argv:\n",
    "    # use the keyword after '-s' for the search\n",
    "    try:\n",
    "        global results_df\n",
    "        results_df = get_info_by_search_gene_name(sys.argv[sys.argv.index(\"-s\") + 1])\n",
    "        print(results_df)\n",
    "    except ValueError:\n",
    "        print(\"Place an input name after -s.\")\n",
    "\n",
    "if \"-p\" in sys.argv:\n",
    "    try:\n",
    "        path = sys.argv[sys.argv.index(\"-p\") + 1]\n",
    "    except ValueError:\n",
    "        print(\"Place an input name after -p.\")\n",
    "\n",
    "if \"-d\" in sys.argv:\n",
    "    exp_id = sys.argv[sys.argv.index(\"-d\") + 1]\n",
    "    gene_name = get_gene_by_id(results_df, exp_id)\n",
    "    if \"--dir\" in sys.argv:\n",
    "        try:\n",
    "            dirname = sys.argv[sys.argv.index(\"--dir\") + 1]\n",
    "        except ValueError:\n",
    "            print(\"Place an input name after --dir.\")\n",
    "    else:\n",
    "        dirname = gene_name\n",
    "\n",
    "    download_brain_slice(exp_id, dirname, path)"
   ]
  }
 ],
 "metadata": {
  "jupytext": {
   "formats": "ipynb,py:percent",
   "notebook_metadata_filter": "-all"
  },
  "kernelspec": {
   "display_name": "Python 3",
   "language": "python",
   "name": "python3"
  },
  "language_info": {
   "codemirror_mode": {
    "name": "ipython",
    "version": 3
   },
   "file_extension": ".py",
   "mimetype": "text/x-python",
   "name": "python",
   "nbconvert_exporter": "python",
   "pygments_lexer": "ipython3",
   "version": "3.8.1"
  }
 },
 "nbformat": 4,
 "nbformat_minor": 4
}
