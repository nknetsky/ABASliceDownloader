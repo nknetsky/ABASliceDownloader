{
 "cells": [
  {
   "cell_type": "code",
   "execution_count": null,
   "metadata": {},
   "outputs": [],
   "source": [
    "#! python3\n",
    "# downloadAllenBrainSlice - download brain slices from the Allen Brain Atlas\n",
    "from function import *\n",
    "import sys\n",
    "import argparse"
   ]
  },
  {
   "cell_type": "code",
   "execution_count": null,
   "metadata": {},
   "outputs": [],
   "source": [
    "path = \"/Users/erikliu/Desktop/\"\n",
    "\n",
    "# user argparse to parse input string\n",
    "try:\n",
    "    parser = argparse.ArgumentParser(\n",
    "        description=\"Search experiments in ABA using keywords\"\n",
    "    )\n",
    "    parser.add_argument(\n",
    "        \"-k\",\n",
    "        \"--keywords\",\n",
    "        metavar=\"keywords\",\n",
    "        nargs=\"*\",\n",
    "        help=\"keywords for the search in ABA\",\n",
    "    )\n",
    "    args = parser.parse_args()\n",
    "    get_info_by_search_gene_name(args.keywords)\n",
    "\n",
    "except ValueError:\n",
    "    print(\"Please see --help for the command use\")\n",
    "\n",
    "# change the following arguments fit to argparse\n",
    "    \n",
    "# '-p' followed by a path\n",
    "# specify the path to store the images\n",
    "if \"-p\" in sys.argv:\n",
    "    try:\n",
    "        path = sys.argv[sys.argv.index(\"-p\") + 1]\n",
    "    except ValueError:\n",
    "        print(\"Place an input name after -p.\")\n",
    "\n",
    "# '-d' followed by an experiment id\n",
    "# download the images of the experiment id\n",
    "if \"-d\" in sys.argv:\n",
    "    exp_id = sys.argv[sys.argv.index(\"-d\") + 1]\n",
    "    gene_name = get_gene_by_id(results_df, exp_id)\n",
    "\n",
    "    # '-dir' followed by a directory name\n",
    "    # specify the directory name to store the images\n",
    "    # if not specified, the gene name of the experiment id is used\n",
    "    if \"--dir\" in sys.argv:\n",
    "        try:\n",
    "            dirname = sys.argv[sys.argv.index(\"--dir\") + 1]\n",
    "        except ValueError:\n",
    "            print(\"Place an input name after --dir.\")\n",
    "    else:\n",
    "        dirname = gene_name\n",
    "\n",
    "    download_brain_slice(exp_id, dirname, path)"
   ]
  }
 ],
 "metadata": {
  "jupytext": {
   "formats": "ipynb,py:percent",
   "notebook_metadata_filter": "-all"
  },
  "kernelspec": {
   "display_name": "Python 3",
   "language": "python",
   "name": "python3"
  },
  "language_info": {
   "codemirror_mode": {
    "name": "ipython",
    "version": 3
   },
   "file_extension": ".py",
   "mimetype": "text/x-python",
   "name": "python",
   "nbconvert_exporter": "python",
   "pygments_lexer": "ipython3",
   "version": "3.8.1"
  }
 },
 "nbformat": 4,
 "nbformat_minor": 4
}
